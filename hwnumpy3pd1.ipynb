{
 "cells": [
  {
   "cell_type": "code",
   "execution_count": 37,
   "id": "7ecff704-2104-4d7d-bd9d-289ad631fcc8",
   "metadata": {},
   "outputs": [],
   "source": [
    "import numpy as np"
   ]
  },
  {
   "cell_type": "markdown",
   "id": "cb8eb8ac-2b31-4edd-ba4f-b7b66f1dce7e",
   "metadata": {},
   "source": [
    "<div style=\"color: blue; font-family: 'david', sans-serif; font-size: 24px; font-weight: bold;\">    question 1</div>"
   ]
  },
  {
   "cell_type": "code",
   "execution_count": 39,
   "id": "d4007fc1-d1d6-420b-9e46-82e36fc4c441",
   "metadata": {},
   "outputs": [
    {
     "name": "stdout",
     "output_type": "stream",
     "text": [
      "- a-  [61 84 51 87 82 65 93]\n"
     ]
    }
   ],
   "source": [
    "np.random.seed(80)\n",
    "arr_rand = np.random.randint(1,100,(4,4))\n",
    "print(\"- a- \",arr_rand[50<arr_rand])"
   ]
  },
  {
   "cell_type": "code",
   "execution_count": 57,
   "id": "7ce2567b-5fc5-4da2-9703-e2109d4c898f",
   "metadata": {
    "scrolled": true
   },
   "outputs": [
    {
     "name": "stdout",
     "output_type": "stream",
     "text": [
      "[[48 61 39 84]\n",
      " [11 51  4 87]\n",
      " [24 16 82  6]\n",
      " [65 10 93 43]]\n",
      "- b - column sum =  [148 138 218 220]\n",
      "- b - row sum =  [232 153 128 211]\n"
     ]
    }
   ],
   "source": [
    "col_sum = np.sum(arr_rand,axis=0)\n",
    "row_sum = np.sum(arr_rand,axis=1)\n",
    "print(arr_rand)\n",
    "print(\"- b - column sum = \",col_sum)\n",
    "print(\"- b - row sum = \",row_sum)"
   ]
  },
  {
   "cell_type": "code",
   "execution_count": 97,
   "id": "744ffc97-4246-46e4-93d9-bd6e25917334",
   "metadata": {},
   "outputs": [
    {
     "name": "stdout",
     "output_type": "stream",
     "text": [
      "max col[0] 65\n",
      "max col[1] 61\n",
      "max col[2] 93\n",
      "max col[3] 87\n",
      "[65 61 93 87]\n",
      "max row[0] 84\n",
      "max row[1] 87\n",
      "max row[2] 82\n",
      "max row[3] 93\n"
     ]
    }
   ],
   "source": [
    "print(\"-c- 1\")\n",
    "print(\"max col[0]\",np.max(arr_rand[:,0]))\n",
    "print(\"max col[1]\",np.max(arr_rand[:,1]))\n",
    "print(\"max col[2]\",np.max(arr_rand[:,2]))\n",
    "print(\"max col[3]\",np.max(arr_rand[:,3]))\n",
    "print(\"max row[0]\",np.max(arr_rand[0,:]))\n",
    "print(\"max row[1]\",np.max(arr_rand[1,:]))\n",
    "print(\"max row[2]\",np.max(arr_rand[2,:]))\n",
    "print(\"max row[3]\",np.max(arr_rand[3,:]))"
   ]
  },
  {
   "cell_type": "code",
   "execution_count": 99,
   "id": "b768ae76-6b4a-4ffe-b380-68e1ca4597f0",
   "metadata": {},
   "outputs": [
    {
     "name": "stdout",
     "output_type": "stream",
     "text": [
      "-c- 1\n",
      "min col[0] 11\n",
      "min col[1] 10\n",
      "min col[2] 4\n",
      "min col[3] 6\n",
      "min row[0] 39\n",
      "min row[1] 4\n",
      "min row[2] 6\n",
      "min row[3] 10\n"
     ]
    }
   ],
   "source": [
    "print(\"-c- 2\")\n",
    "print(\"min col[0]\",np.min(arr_rand[:,0]))\n",
    "print(\"min col[1]\",np.min(arr_rand[:,1]))\n",
    "print(\"min col[2]\",np.min(arr_rand[:,2]))\n",
    "print(\"min col[3]\",np.min(arr_rand[:,3]))\n",
    "print(\"min row[0]\",np.min(arr_rand[0,:]))\n",
    "print(\"min row[1]\",np.min(arr_rand[1,:]))\n",
    "print(\"min row[2]\",np.min(arr_rand[2,:]))\n",
    "print(\"min row[3]\",np.min(arr_rand[3,:]))"
   ]
  },
  {
   "cell_type": "code",
   "execution_count": 121,
   "id": "f2e3d5a8-5cf6-4dcc-89ef-9e634da3da62",
   "metadata": {},
   "outputs": [
    {
     "name": "stdout",
     "output_type": "stream",
     "text": [
      "-c- 3\n",
      "mean col[0] 37.0\n",
      "mean col[1] 34.5\n",
      "mean col[2] 54.5\n",
      "mean col[3] 55.0\n",
      "mean row-  58.0\n",
      "mean row-  38.25\n",
      "mean row-  32.0\n",
      "mean row-  52.75\n"
     ]
    }
   ],
   "source": [
    "print(\"-c- 3\")\n",
    "print(\"mean col[0]\",np.mean(arr_rand[:,0]))\n",
    "print(\"mean col[1]\",np.mean(arr_rand[:,1]))\n",
    "print(\"mean col[2]\",np.mean(arr_rand[:,2]))\n",
    "print(\"mean col[3]\",np.mean(arr_rand[:,3]))\n",
    "for i in arr_rand:\n",
    "    print(\"mean row- \",np.mean(i))\n"
   ]
  },
  {
   "cell_type": "markdown",
   "id": "2b0a5039-03a4-4371-9442-b1a16ff060a1",
   "metadata": {},
   "source": [
    "<div style=\"color: blue; font-family: 'david', sans-serif; font-size: 24px; font-weight: bold;\">    question 2- pandas</div>"
   ]
  },
  {
   "cell_type": "code",
   "execution_count": 125,
   "id": "de0a4a38-dc86-4206-92f1-c5a468b37ecf",
   "metadata": {},
   "outputs": [],
   "source": [
    "import pandas as pd"
   ]
  },
  {
   "cell_type": "code",
   "execution_count": 143,
   "id": "5111fb3e-d7f3-429c-969c-c1ef691ea108",
   "metadata": {},
   "outputs": [
    {
     "name": "stdout",
     "output_type": "stream",
     "text": [
      "- a - 59.99\n",
      "- b - ['Final Fantasy VII Rebirth', 'Astro Bot', 'Star Wars Outlaws', 'Silent Hill 2 Remake', 'Elden Ring: Shadow of the Erdtree', 'Dragon Age: The Veilguard', 'Metaphor: ReFantazio']\n",
      "- c - 69.99\n",
      "- d - the price of all games is moria:  439.93\n"
     ]
    }
   ],
   "source": [
    "new_games = {\n",
    "\"Final Fantasy VII Rebirth\": 69.99,\n",
    "\"Astro Bot\": 59.99,\n",
    "\"Star Wars Outlaws\": 69.99,\n",
    "\"Silent Hill 2 Remake\": 69.99,\n",
    "\"Elden Ring: Shadow of the Erdtree\": 39.99,\n",
    "\"Dragon Age: The Veilguard\": 69.99,\n",
    "\"Metaphor: ReFantazio\": 59.99\n",
    "}\n",
    "games_ser= pd.Series(new_games)\n",
    "print(\"- a -\",games_ser[\"Metaphor: ReFantazio\"])\n",
    "print(\"- b -\",list(games_ser.keys()))\n",
    "print(\"- c -\",games_ser.iloc[3])\n",
    "print(\"- d -\",\"the price of all games is moria: \",sum(games_ser.values))"
   ]
  },
  {
   "cell_type": "code",
   "execution_count": null,
   "id": "9b153d2b-b5f0-440b-a40c-320590ec94dd",
   "metadata": {},
   "outputs": [],
   "source": []
  }
 ],
 "metadata": {
  "kernelspec": {
   "display_name": "Python [conda env:base] *",
   "language": "python",
   "name": "conda-base-py"
  },
  "language_info": {
   "codemirror_mode": {
    "name": "ipython",
    "version": 3
   },
   "file_extension": ".py",
   "mimetype": "text/x-python",
   "name": "python",
   "nbconvert_exporter": "python",
   "pygments_lexer": "ipython3",
   "version": "3.12.7"
  }
 },
 "nbformat": 4,
 "nbformat_minor": 5
}
